{
 "cells": [
  {
   "cell_type": "code",
   "execution_count": null,
   "metadata": {},
   "outputs": [],
   "source": [
    "# Load libraries\n",
    "from sklearn import datasets\n",
    "from sklearn.model_selection import train_test_split\n",
    "from sklearn.neighbors import KNeighborsClassifier\n",
    "from sklearn import metrics \n",
    "import pandas as pd\n",
    "import numpy as np\n",
    "\n",
    "# Load iris dataset\n",
    "iris = datasets.load_iris()                   #load the dataset from sklearn\n",
    "# print(iris)\n",
    "\n",
    "X= iris[\"data\"]\n",
    "Y= iris[\"target\"]\n",
    "\n",
    "# print(iris.target_names)\n",
    "# print(iris.feature_names)\n",
    "\n",
    "X_train, X_test, y_train, y_test = train_test_split(X, Y, random_state=0)      #train_test_split() will divide the train and test dataset into 75:25 ratio\n",
    "# print(len(X_train), len(X_test))\n",
    "model = KNeighborsClassifier(n_neighbors=5)   #using KNeighborsClassifier in our model\n",
    "model.fit(X_train, y_train)                   #train the model using labaled data set\n",
    "\n",
    "\n",
    "x_new = np.array([[7.7,  3.,   6.1,  2.3]]) \n",
    "prediction = model.predict(X_test)            #prediction for only single input x_new\n",
    "# prediction = model.predict(X_test)          #prediction for the entire test dataset\n",
    "print(\"Predicted feature name: {}\\n\".format\n",
    "    (iris[\"target_names\"][prediction])) \n",
    "\n",
    "\n",
    "y_pred=model.predict(X_test)                   #prediction accuracy score\n",
    "print(metrics.accuracy_score(y_test,y_pred))"
   ]
  }
 ],
 "metadata": {
  "kernelspec": {
   "display_name": "Python 3",
   "language": "python",
   "name": "python3"
  },
  "language_info": {
   "codemirror_mode": {
    "name": "ipython",
    "version": 3
   },
   "file_extension": ".py",
   "mimetype": "text/x-python",
   "name": "python",
   "nbconvert_exporter": "python",
   "pygments_lexer": "ipython3",
   "version": "3.7.6"
  }
 },
 "nbformat": 4,
 "nbformat_minor": 4
}
