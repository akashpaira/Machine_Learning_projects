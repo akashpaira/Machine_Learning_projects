{
  "nbformat": 4,
  "nbformat_minor": 0,
  "metadata": {
    "colab": {
      "name": "SentimentalAnalysis",
      "provenance": [],
      "collapsed_sections": []
    },
    "kernelspec": {
      "name": "python3",
      "display_name": "Python 3"
    }
  },
  "cells": [
    {
      "cell_type": "code",
      "metadata": {
        "id": "XDurUz1Rtje7",
        "colab_type": "code",
        "colab": {
          "base_uri": "https://localhost:8080/",
          "height": 87
        },
        "outputId": "7b9306eb-1d44-4558-f01a-40f513bb53ca"
      },
      "source": [
        "import nltk\n",
        "# nltk.download('stopwords')\n",
        "# nltk.download('punkt')                        #sentence tokenizer\n",
        "nltk.download('movie_reviews')\n",
        "import nltk.classify.util\n",
        "from nltk.classify import NaiveBayesClassifier\n",
        "from nltk.corpus import movie_reviews\n",
        "from nltk.corpus import stopwords\n",
        "from nltk.tokenize import word_tokenize\n",
        "\n",
        "\n",
        "# Processing the input for Naive Bayes Classifier\n",
        "def create_word_features(words):\n",
        "    useful_words = [word for word in words if word not in stopwords.words(\"english\")]\n",
        "    my_dict = dict([(word, True) for word in useful_words])        \n",
        "    return my_dict\n",
        "\n",
        "                                  #Feature Selection\n",
        "\n",
        "neg_reviews = []\n",
        "for fileid in movie_reviews.fileids('neg'):\n",
        "    words = movie_reviews.words(fileid)              #tokenizing\n",
        "    neg_reviews.append((create_word_features(words), \"negative\"))\n",
        "\n",
        "# print(pos_reviews[0])    \n",
        "# print(len(neg_reviews))\n",
        "\n",
        "pos_reviews = []\n",
        "for fileid in movie_reviews.fileids('pos'):\n",
        "    words = movie_reviews.words(fileid)                #tokenizing\n",
        "    pos_reviews.append((create_word_features(words), \"positive\"))\n",
        "    \n",
        "# print(pos_reviews[0])    \n",
        "# print(len(pos_reviews))\n",
        "\n",
        "                                          #Train the ML model\n",
        "\n",
        "train_set = neg_reviews[:750] + pos_reviews[:750]                #creating training dataset containing both positive and negetive comments\n",
        "test_set =  neg_reviews[750:] + pos_reviews[750:]                #creating test dataset containing both positive and negetive comments\n",
        "print(len(train_set),  len(test_set))\n",
        "\n",
        "classifier = NaiveBayesClassifier.train(train_set)               #assigning text analysis classifier.\n",
        "accuracy = nltk.classify.util.accuracy(classifier, test_set)\n",
        "print(accuracy * 100)"
      ],
      "execution_count": null,
      "outputs": [
        {
          "output_type": "stream",
          "text": [
            "[nltk_data] Downloading package movie_reviews to /root/nltk_data...\n",
            "[nltk_data]   Package movie_reviews is already up-to-date!\n",
            "1500 500\n",
            "72.39999999999999\n"
          ],
          "name": "stdout"
        }
      ]
    },
    {
      "cell_type": "code",
      "metadata": {
        "id": "EwxmMV-Nr0JR",
        "colab_type": "code",
        "colab": {}
      },
      "source": [
        "review_santa = '''\n",
        " \n",
        "It would be impossible to sum up all the stuff that sucks about this film, so I'll break it down into what I remember most strongly: a man in an ingeniously fake-looking polar bear costume (funnier than the \"bear\" from Hercules in New York); an extra with the most unnatural laugh you're ever likely to hear; an ex-dope addict martian with tics; kid actors who make sure every syllable of their lines are slowly and caaarreee-fulll-yyy prrooo-noun-ceeed; a newspaper headline stating that Santa's been \"kidnaped\", and a giant robot. Yes, you read that right. A giant robot.\n",
        " \n",
        "The worst acting job in here must be when Mother Claus and her elves have been \"frozen\" by the \"Martians'\" weapons. Could they be *more* trembling? I know this was the sixties and everyone was doped up, but still.\n",
        "'''\n",
        "# --------------------------------------------------------------------------------------------------------------------------------------------------------------------------------------------\n",
        "\n",
        "rev='''Spirited Away' is the first Miyazaki I have seen, but from this stupendous film I can tell he is a master storyteller. A hallmark of a good storyteller is making the audience empathise or pull them into the shoes of the central character. Miyazaki does this brilliantly in 'Spirited Away'. During the first fifteen minutes we have no idea what is going on. Neither does the main character Chihiro. We discover the world as Chihiro does and it's truly amazing to watch. But Miyazaki doesn't seem to treat this world as something amazing. The world is filmed just like our workaday world would. The inhabitants of the world go about their daily business as usual as full with apathy as us normal folks. Places and buildings are not greeted by towering establishing shots and majestic music. The fact that this place is amazing doesn't seem to concern Miyazaki.\n",
        " \n",
        "What do however, are the characters. Miyazaki lingers upon the characters as if they were actors. He infixes his animated actors with such subtleties that I have never seen, even from animation giants Pixar. Twenty minutes into this film and I completely forgot these were animated characters; I started to care for them like they were living and breathing. Miyazaki treats the modest achievements of Chihiro with unashamed bombast. The uplifting scene where she cleanses the River God is accompanied by stirring music and is as exciting as watching gladiatorial combatants fight. Of course, by giving the audience developed characters to care about, the action and conflicts will always be more exciting, terrifying and uplifting than normal, generic action scenes. \n",
        "'''\n",
        "# print(rev )"
      ],
      "execution_count": 1,
      "outputs": []
    },
    {
      "cell_type": "code",
      "metadata": {
        "id": "_XvIX-UDsF0f",
        "colab_type": "code",
        "colab": {
          "base_uri": "https://localhost:8080/",
          "height": 35
        },
        "outputId": "1a3a7aa4-6f3b-41bc-d195-67ba3f0f3217"
      },
      "source": [
        "words = word_tokenize(rev)                  #tokenizing\n",
        "words = create_word_features(words)\n",
        "classifier.classify(words)"
      ],
      "execution_count": null,
      "outputs": [
        {
          "output_type": "execute_result",
          "data": {
            "application/vnd.google.colaboratory.intrinsic": {
              "type": "string"
            },
            "text/plain": [
              "'positive'"
            ]
          },
          "metadata": {
            "tags": []
          },
          "execution_count": 4
        }
      ]
    },
    {
      "cell_type": "code",
      "metadata": {
        "id": "qeQtKagvjTC7",
        "colab_type": "code",
        "colab": {
          "base_uri": "https://localhost:8080/",
          "height": 35
        },
        "outputId": "459fa4fd-378d-415b-fb21-a614654458aa"
      },
      "source": [
        "words = word_tokenize(review_santa)         #tokenizing\n",
        "words = create_word_features(words)\n",
        "classifier.classify(words)"
      ],
      "execution_count": null,
      "outputs": [
        {
          "output_type": "execute_result",
          "data": {
            "application/vnd.google.colaboratory.intrinsic": {
              "type": "string"
            },
            "text/plain": [
              "'negative'"
            ]
          },
          "metadata": {
            "tags": []
          },
          "execution_count": 5
        }
      ]
    },
    {
      "cell_type": "code",
      "metadata": {
        "id": "wtXQJglNsroU",
        "colab_type": "code",
        "colab": {
          "base_uri": "https://localhost:8080/",
          "height": 35
        },
        "outputId": "b6903c33-920f-430b-c167-c9ed9b53fbe4"
      },
      "source": [
        "custom_rev=\" the movie was great\"\n",
        "words = word_tokenize(custom_rev)           #tokenizing\n",
        "words = create_word_features(words)\n",
        "classifier.classify(words)"
      ],
      "execution_count": null,
      "outputs": [
        {
          "output_type": "execute_result",
          "data": {
            "application/vnd.google.colaboratory.intrinsic": {
              "type": "string"
            },
            "text/plain": [
              "'positive'"
            ]
          },
          "metadata": {
            "tags": []
          },
          "execution_count": 6
        }
      ]
    },
    {
      "cell_type": "code",
      "metadata": {
        "id": "gpucFjtjY9eY",
        "colab_type": "code",
        "colab": {}
      },
      "source": [
        ""
      ],
      "execution_count": null,
      "outputs": []
    }
  ]
}
